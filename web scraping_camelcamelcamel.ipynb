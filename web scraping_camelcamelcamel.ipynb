{
 "cells": [
  {
   "cell_type": "code",
   "execution_count": 1,
   "id": "eb8427fe-09cf-46c2-9d2f-18476fd5a571",
   "metadata": {},
   "outputs": [
    {
     "name": "stdout",
     "output_type": "stream",
     "text": [
      "Requirement already satisfied: selenium in /opt/anaconda3/lib/python3.11/site-packages (4.21.0)\n",
      "Requirement already satisfied: urllib3<3,>=1.26 in /opt/anaconda3/lib/python3.11/site-packages (from urllib3[socks]<3,>=1.26->selenium) (2.2.2)\n",
      "Requirement already satisfied: trio~=0.17 in /opt/anaconda3/lib/python3.11/site-packages (from selenium) (0.25.1)\n",
      "Requirement already satisfied: trio-websocket~=0.9 in /opt/anaconda3/lib/python3.11/site-packages (from selenium) (0.11.1)\n",
      "Requirement already satisfied: certifi>=2021.10.8 in /opt/anaconda3/lib/python3.11/site-packages (from selenium) (2024.6.2)\n",
      "Requirement already satisfied: typing_extensions>=4.9.0 in /opt/anaconda3/lib/python3.11/site-packages (from selenium) (4.12.2)\n",
      "Requirement already satisfied: attrs>=23.2.0 in /opt/anaconda3/lib/python3.11/site-packages (from trio~=0.17->selenium) (23.2.0)\n",
      "Requirement already satisfied: sortedcontainers in /opt/anaconda3/lib/python3.11/site-packages (from trio~=0.17->selenium) (2.4.0)\n",
      "Requirement already satisfied: idna in /opt/anaconda3/lib/python3.11/site-packages (from trio~=0.17->selenium) (3.7)\n",
      "Requirement already satisfied: outcome in /opt/anaconda3/lib/python3.11/site-packages (from trio~=0.17->selenium) (1.3.0.post0)\n",
      "Requirement already satisfied: sniffio>=1.3.0 in /opt/anaconda3/lib/python3.11/site-packages (from trio~=0.17->selenium) (1.3.1)\n",
      "Requirement already satisfied: wsproto>=0.14 in /opt/anaconda3/lib/python3.11/site-packages (from trio-websocket~=0.9->selenium) (1.2.0)\n",
      "Requirement already satisfied: pysocks!=1.5.7,<2.0,>=1.5.6 in /opt/anaconda3/lib/python3.11/site-packages (from urllib3[socks]<3,>=1.26->selenium) (1.7.1)\n",
      "Requirement already satisfied: h11<1,>=0.9.0 in /opt/anaconda3/lib/python3.11/site-packages (from wsproto>=0.14->trio-websocket~=0.9->selenium) (0.14.0)\n",
      "\n",
      "\u001b[1m[\u001b[0m\u001b[34;49mnotice\u001b[0m\u001b[1;39;49m]\u001b[0m\u001b[39;49m A new release of pip is available: \u001b[0m\u001b[31;49m24.0\u001b[0m\u001b[39;49m -> \u001b[0m\u001b[32;49m24.2\u001b[0m\n",
      "\u001b[1m[\u001b[0m\u001b[34;49mnotice\u001b[0m\u001b[1;39;49m]\u001b[0m\u001b[39;49m To update, run: \u001b[0m\u001b[32;49mpip install --upgrade pip\u001b[0m\n"
     ]
    }
   ],
   "source": [
    "!pip install selenium"
   ]
  },
  {
   "cell_type": "code",
   "execution_count": null,
   "id": "4354ebe3-4913-44b0-9963-cd354b01b84f",
   "metadata": {},
   "outputs": [],
   "source": []
  },
  {
   "cell_type": "code",
   "execution_count": null,
   "id": "2d7c6231-6d74-426f-b72e-f7ea32591fb2",
   "metadata": {},
   "outputs": [],
   "source": []
  },
  {
   "cell_type": "code",
   "execution_count": 11,
   "id": "845b9ecd-8f13-44fa-891f-dfdd43cc6a53",
   "metadata": {},
   "outputs": [],
   "source": [
    "from selenium import webdriver\n",
    "from selenium.webdriver.common.by import By\n",
    "from selenium.webdriver.chrome.service import Service\n",
    "from webdriver_manager.chrome import ChromeDriverManager\n",
    "import pandas as pd\n",
    "import re\n",
    "from datetime import datetime\n",
    "\n",
    "def amazon_a_camel_url(amazon_url: str) -> str:\n",
    "    \"\"\"Convierte una URL de Amazon a una URL de CamelCamelCamel usando el ASIN.\"\"\"\n",
    "    asin_match = re.search(r'/dp/([A-Z0-9]{10})', amazon_url)\n",
    "    if asin_match:\n",
    "        asin = asin_match.group(1)\n",
    "        camel_url = f\"https://camelcamelcamel.com/product/{asin}\"\n",
    "        return camel_url\n",
    "    else:\n",
    "        raise ValueError(\"No se pudo extraer el ASIN de la URL de Amazon\")\n",
    "\n",
    "def extraer_precio_y_fecha(texto: str):\n",
    "    \"\"\"Extrae el precio y la fecha del texto proporcionado.\"\"\"\n",
    "    precio_match = re.search(r'\\$(\\d+\\.\\d{2})', texto)\n",
    "    fecha_match = re.search(r'\\((\\d{2} de \\w+ de \\d{4})\\)', texto)\n",
    "    \n",
    "    precio = float(precio_match.group(1)) if precio_match else None\n",
    "    fecha_str = fecha_match.group(1) if fecha_match else None\n",
    "    \n",
    "    # Mapear los meses abreviados en español\n",
    "    meses = {\n",
    "        'ene': '01',\n",
    "        'feb': '02',\n",
    "        'mar': '03',\n",
    "        'abr': '04',\n",
    "        'may': '05',\n",
    "        'jun': '06',\n",
    "        'jul': '07',\n",
    "        'ago': '08',\n",
    "        'sep': '09',\n",
    "        'oct': '10',\n",
    "        'nov': '11',\n",
    "        'dic': '12'\n",
    "    }\n",
    "    \n",
    "    if fecha_str:\n",
    "        for mes_abrev, mes_num in meses.items():\n",
    "            fecha_str = fecha_str.replace(f\" de {mes_abrev} de \", f\"-{mes_num}-\")\n",
    "        fecha = datetime.strptime(fecha_str, '%d-%m-%Y')\n",
    "    else:\n",
    "        fecha = None\n",
    "    \n",
    "    return precio, fecha\n",
    "\n",
    "# Ejemplo de URL de Amazon\n",
    "url_amazon: str = \"https://www.amazon.com/dp/B000VXO4L2?tag=camelweb-20&linkCode=ogi&th=1&psc=1&language=en_US\"\n",
    "\n",
    "# Convertir a URL de CamelCamelCamel\n",
    "url: str = amazon_a_camel_url(url_amazon)\n",
    "\n",
    "# Configurar el servicio de Chrome\n",
    "service = Service(ChromeDriverManager().install())\n",
    "\n",
    "# Iniciar el navegador Chrome\n",
    "driver = webdriver.Chrome(service=service)\n",
    "\n",
    "# Navegar a la página de CamelCamelCamel\n",
    "driver.get(url)\n",
    "\n",
    "# Buscar la tabla que contiene los precios\n",
    "tabla_precios = driver.find_element(By.CLASS_NAME, 'camelegend')\n",
    "\n",
    "# Extraer los datos de la tabla\n",
    "datos: list[list] = []\n",
    "filas = tabla_precios.find_elements(By.TAG_NAME, 'tr')\n",
    "for fila in filas[1:]:  # Omitir la cabecera de la tabla\n",
    "    celdas = fila.find_elements(By.TAG_NAME, 'td')\n",
    "    tipo_precio = celdas[0].text.strip()\n",
    "    \n",
    "    mas_bajo_precio, mas_bajo_fecha = extraer_precio_y_fecha(celdas[1].text.strip())\n",
    "    mas_alto_precio, mas_alto_fecha = extraer_precio_y_fecha(celdas[2].text.strip())\n",
    "    actual_precio, actual_fecha = extraer_precio_y_fecha(celdas[3].text.strip())\n",
    "    \n",
    "    media_precio = float(re.search(r'\\$(\\d+\\.\\d{2})', celdas[4].text.strip()).group(1)) if celdas[4].text.strip() else None\n",
    "    \n",
    "    datos.append([tipo_precio, mas_bajo_precio, mas_bajo_fecha, mas_alto_precio, mas_alto_fecha,\n",
    "                  actual_precio, actual_fecha, media_precio])\n",
    "\n",
    "# Crear el DataFrame con las nuevas columnas\n",
    "df = pd.DataFrame(datos, columns=['tipo_de_precio', 'mas_bajo', 'mas_bajo_fecha',\n",
    "                                  'mas_alto', 'mas_alto_fecha', 'actual', 'actual_fecha', 'media'])\n",
    "\n",
    "# Cerrar el navegador\n",
    "driver.quit()"
   ]
  },
  {
   "cell_type": "code",
   "execution_count": 13,
   "id": "614ad292-64af-4326-bb2b-0128d2a2971a",
   "metadata": {},
   "outputs": [
    {
     "name": "stdout",
     "output_type": "stream",
     "text": [
      "   tipo_de_precio  mas_bajo mas_bajo_fecha  mas_alto mas_alto_fecha  actual  \\\n",
      "0          Amazon      5.48     2020-02-11     21.49     2022-04-24    8.27   \n",
      "1  3ª Parte Nuevo      0.99     2019-08-03     39.90     2022-04-21     NaN   \n",
      "2  3ª Parte Usado      3.98     2016-03-09     53.32     2013-05-30     NaN   \n",
      "\n",
      "  actual_fecha  media  \n",
      "0   2024-08-25   9.93  \n",
      "1          NaT  15.99  \n",
      "2          NaT   9.47  \n"
     ]
    }
   ],
   "source": [
    "# Mostrar datos al usuario\n",
    "print(df)\n",
    "\n",
    "# Guardar los datos en un archivo CSV\n",
    "df.to_csv('historial_precios.csv', index=False)"
   ]
  },
  {
   "cell_type": "code",
   "execution_count": 15,
   "id": "000dcb0b-005b-4bac-8068-ed9b9a5618bc",
   "metadata": {},
   "outputs": [
    {
     "data": {
      "text/html": [
       "<div>\n",
       "<style scoped>\n",
       "    .dataframe tbody tr th:only-of-type {\n",
       "        vertical-align: middle;\n",
       "    }\n",
       "\n",
       "    .dataframe tbody tr th {\n",
       "        vertical-align: top;\n",
       "    }\n",
       "\n",
       "    .dataframe thead th {\n",
       "        text-align: right;\n",
       "    }\n",
       "</style>\n",
       "<table border=\"1\" class=\"dataframe\">\n",
       "  <thead>\n",
       "    <tr style=\"text-align: right;\">\n",
       "      <th></th>\n",
       "      <th>tipo_de_precio</th>\n",
       "      <th>mas_bajo</th>\n",
       "      <th>mas_bajo_fecha</th>\n",
       "      <th>mas_alto</th>\n",
       "      <th>mas_alto_fecha</th>\n",
       "      <th>actual</th>\n",
       "      <th>actual_fecha</th>\n",
       "      <th>media</th>\n",
       "    </tr>\n",
       "  </thead>\n",
       "  <tbody>\n",
       "    <tr>\n",
       "      <th>0</th>\n",
       "      <td>Amazon</td>\n",
       "      <td>5.48</td>\n",
       "      <td>2020-02-11</td>\n",
       "      <td>21.49</td>\n",
       "      <td>2022-04-24</td>\n",
       "      <td>8.27</td>\n",
       "      <td>2024-08-25</td>\n",
       "      <td>9.93</td>\n",
       "    </tr>\n",
       "    <tr>\n",
       "      <th>1</th>\n",
       "      <td>3ª Parte Nuevo</td>\n",
       "      <td>0.99</td>\n",
       "      <td>2019-08-03</td>\n",
       "      <td>39.90</td>\n",
       "      <td>2022-04-21</td>\n",
       "      <td>NaN</td>\n",
       "      <td>NaT</td>\n",
       "      <td>15.99</td>\n",
       "    </tr>\n",
       "    <tr>\n",
       "      <th>2</th>\n",
       "      <td>3ª Parte Usado</td>\n",
       "      <td>3.98</td>\n",
       "      <td>2016-03-09</td>\n",
       "      <td>53.32</td>\n",
       "      <td>2013-05-30</td>\n",
       "      <td>NaN</td>\n",
       "      <td>NaT</td>\n",
       "      <td>9.47</td>\n",
       "    </tr>\n",
       "  </tbody>\n",
       "</table>\n",
       "</div>"
      ],
      "text/plain": [
       "   tipo_de_precio  mas_bajo mas_bajo_fecha  mas_alto mas_alto_fecha  actual  \\\n",
       "0          Amazon      5.48     2020-02-11     21.49     2022-04-24    8.27   \n",
       "1  3ª Parte Nuevo      0.99     2019-08-03     39.90     2022-04-21     NaN   \n",
       "2  3ª Parte Usado      3.98     2016-03-09     53.32     2013-05-30     NaN   \n",
       "\n",
       "  actual_fecha  media  \n",
       "0   2024-08-25   9.93  \n",
       "1          NaT  15.99  \n",
       "2          NaT   9.47  "
      ]
     },
     "execution_count": 15,
     "metadata": {},
     "output_type": "execute_result"
    }
   ],
   "source": [
    "df"
   ]
  },
  {
   "cell_type": "code",
   "execution_count": 19,
   "id": "7690607e-2fe7-4251-a728-368998d06399",
   "metadata": {},
   "outputs": [],
   "source": [
    "nuevo_df = df[df['tipo_de_precio'] == 'Amazon']"
   ]
  },
  {
   "cell_type": "code",
   "execution_count": 21,
   "id": "3ddc9adf-3570-4b77-8c41-2aad14385777",
   "metadata": {},
   "outputs": [
    {
     "data": {
      "text/html": [
       "<div>\n",
       "<style scoped>\n",
       "    .dataframe tbody tr th:only-of-type {\n",
       "        vertical-align: middle;\n",
       "    }\n",
       "\n",
       "    .dataframe tbody tr th {\n",
       "        vertical-align: top;\n",
       "    }\n",
       "\n",
       "    .dataframe thead th {\n",
       "        text-align: right;\n",
       "    }\n",
       "</style>\n",
       "<table border=\"1\" class=\"dataframe\">\n",
       "  <thead>\n",
       "    <tr style=\"text-align: right;\">\n",
       "      <th></th>\n",
       "      <th>tipo_de_precio</th>\n",
       "      <th>mas_bajo</th>\n",
       "      <th>mas_bajo_fecha</th>\n",
       "      <th>mas_alto</th>\n",
       "      <th>mas_alto_fecha</th>\n",
       "      <th>actual</th>\n",
       "      <th>actual_fecha</th>\n",
       "      <th>media</th>\n",
       "    </tr>\n",
       "  </thead>\n",
       "  <tbody>\n",
       "    <tr>\n",
       "      <th>0</th>\n",
       "      <td>Amazon</td>\n",
       "      <td>5.48</td>\n",
       "      <td>2020-02-11</td>\n",
       "      <td>21.49</td>\n",
       "      <td>2022-04-24</td>\n",
       "      <td>8.27</td>\n",
       "      <td>2024-08-25</td>\n",
       "      <td>9.93</td>\n",
       "    </tr>\n",
       "  </tbody>\n",
       "</table>\n",
       "</div>"
      ],
      "text/plain": [
       "  tipo_de_precio  mas_bajo mas_bajo_fecha  mas_alto mas_alto_fecha  actual  \\\n",
       "0         Amazon      5.48     2020-02-11     21.49     2022-04-24    8.27   \n",
       "\n",
       "  actual_fecha  media  \n",
       "0   2024-08-25   9.93  "
      ]
     },
     "execution_count": 21,
     "metadata": {},
     "output_type": "execute_result"
    }
   ],
   "source": [
    "nuevo_df"
   ]
  },
  {
   "cell_type": "code",
   "execution_count": 23,
   "id": "26ed6bb1-1b4e-4d6b-9e3c-8a669099d8b6",
   "metadata": {},
   "outputs": [],
   "source": [
    "nuevo_df.to_csv('historial_precios_solo_amazon.csv', index=False)"
   ]
  },
  {
   "cell_type": "code",
   "execution_count": null,
   "id": "eb5e6551-e264-4bc8-89e6-6ad2796c06b8",
   "metadata": {},
   "outputs": [],
   "source": []
  }
 ],
 "metadata": {
  "kernelspec": {
   "display_name": "Python 3 (ipykernel)",
   "language": "python",
   "name": "python3"
  },
  "language_info": {
   "codemirror_mode": {
    "name": "ipython",
    "version": 3
   },
   "file_extension": ".py",
   "mimetype": "text/x-python",
   "name": "python",
   "nbconvert_exporter": "python",
   "pygments_lexer": "ipython3",
   "version": "3.12.4"
  }
 },
 "nbformat": 4,
 "nbformat_minor": 5
}
