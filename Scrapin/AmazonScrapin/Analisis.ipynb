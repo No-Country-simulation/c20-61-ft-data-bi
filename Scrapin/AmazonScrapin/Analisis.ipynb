{
 "cells": [
  {
   "cell_type": "code",
   "execution_count": 1,
   "metadata": {},
   "outputs": [],
   "source": [
    "import os\n",
    "import pandas as pd"
   ]
  },
  {
   "cell_type": "code",
   "execution_count": 9,
   "metadata": {},
   "outputs": [
    {
     "name": "stdout",
     "output_type": "stream",
     "text": [
      "Se han cargado 0 archivos en la lista.\n"
     ]
    }
   ],
   "source": [
    "# Ruta donde están los archivos\n",
    "ruta_archivos = \"BasesDeDatosLimpias\"\n",
    "\n",
    "# Crear una lista para almacenar los DataFrames\n",
    "dfs = []\n",
    "\n",
    "# Recorrer todos los archivos en la carpeta\n",
    "for archivo in os.listdir(ruta_archivos):\n",
    "    # Verificar si el archivo tiene la extensión .xlsx\n",
    "    if archivo.endswith(\".xlsx\"):\n",
    "        # Construir la ruta completa al archivo\n",
    "        ruta_completa = os.path.join(ruta_archivos, archivo)\n",
    "        \n",
    "        # Leer el archivo y agregar el DataFrame a la lista\n",
    "        df = pd.read_excel(ruta_completa)\n",
    "        dfs.append(df)\n",
    "\n",
    "# Verificar cuántos DataFrames se han cargado\n",
    "print(f\"Se han cargado {len(lista_dataframes)} archivos en la lista.\")"
   ]
  },
  {
   "cell_type": "code",
   "execution_count": 12,
   "metadata": {},
   "outputs": [],
   "source": [
    "\n",
    "for df in dfs:\n",
    "    print(df)\n",
    "    print(df['nombre_origen'])"
   ]
  },
  {
   "cell_type": "code",
   "execution_count": null,
   "metadata": {},
   "outputs": [],
   "source": []
  }
 ],
 "metadata": {
  "kernelspec": {
   "display_name": "Python 3",
   "language": "python",
   "name": "python3"
  },
  "language_info": {
   "codemirror_mode": {
    "name": "ipython",
    "version": 3
   },
   "file_extension": ".py",
   "mimetype": "text/x-python",
   "name": "python",
   "nbconvert_exporter": "python",
   "pygments_lexer": "ipython3",
   "version": "3.12.1"
  }
 },
 "nbformat": 4,
 "nbformat_minor": 2
}
