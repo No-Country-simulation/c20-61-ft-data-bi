{
 "cells": [
  {
   "cell_type": "code",
   "execution_count": null,
   "id": "0f46d599-bd98-487b-b756-a71790bf3660",
   "metadata": {
    "scrolled": true
   },
   "outputs": [],
   "source": [
    "pip install selenium webdriver-manager"
   ]
  },
  {
   "cell_type": "code",
   "execution_count": 42,
   "id": "3e92508a-f4bc-4fcd-b94a-795f0a0cc4d9",
   "metadata": {},
   "outputs": [
    {
     "name": "stdout",
     "output_type": "stream",
     "text": [
      "Categorías guardadas en 'categorias_amazon_ES.csv'.\n"
     ]
    }
   ],
   "source": [
    "from selenium import webdriver\n",
    "from selenium.webdriver.common.by import By\n",
    "from selenium.webdriver.chrome.service import Service\n",
    "from webdriver_manager.chrome import ChromeDriverManager\n",
    "import pandas as pd\n",
    "from typing import List, Dict\n",
    "\n",
    "\n",
    "def configurar_navegador() -> webdriver.Chrome:\n",
    "    \"\"\"\n",
    "    Configura y devuelve un navegador Chrome en modo headless.\n",
    "\n",
    "    Returns:\n",
    "        webdriver.Chrome: Navegador Chrome configurado.\n",
    "    \"\"\"\n",
    "    opciones = webdriver.ChromeOptions()\n",
    "    opciones.add_argument('--headless')  # Ejecuta en modo headless (sin abrir la ventana del navegador)\n",
    "    opciones.add_argument('--disable-gpu')\n",
    "    opciones.add_argument('--no-sandbox')\n",
    "    opciones.add_argument('--lang=en')\n",
    "\n",
    "    return webdriver.Chrome(service=Service(ChromeDriverManager().install()), options=opciones)\n",
    "\n",
    "\n",
    "def extraer_categorias(navegador: webdriver.Chrome, url: str) -> List[Dict[str, str]]:\n",
    "    \"\"\"\n",
    "    Extrae las categorías de productos desde una URL de Amazon.\n",
    "\n",
    "    Args:\n",
    "        navegador (webdriver.Chrome): Instancia del navegador.\n",
    "        url (str): URL de la página de Amazon.\n",
    "\n",
    "    Returns:\n",
    "        List[Dict[str, str]]: Lista de diccionarios con nombres y alias de las categorías.\n",
    "    \"\"\"\n",
    "    navegador.get(url)\n",
    "    elementos_categoria = navegador.find_elements(By.CSS_SELECTOR, '#searchDropdownBox option')\n",
    "    categorias = []\n",
    "    for categoria in elementos_categoria:\n",
    "        nombre_categoria = categoria.text.strip()  # Obtener el nombre de la categoría\n",
    "        alias_categoria = categoria.get_attribute('value')  # Obtener el alias de la categoría\n",
    "        if nombre_categoria and alias_categoria:\n",
    "            # Limpiar el alias eliminando 'search-alias=' y cualquier otra parte irrelevante\n",
    "            alias_limpio = alias_categoria.replace('search-alias=', '').strip()\n",
    "            alias_espacio = alias_limpio.replace('-', ' ')  # Reemplazar guiones por espacios\n",
    "            categorias.append({\n",
    "                'nombre': nombre_categoria,\n",
    "                'alias': alias_limpio,\n",
    "                'alias2': alias_espacio\n",
    "            })\n",
    "    return categorias\n",
    "\n",
    "\n",
    "def guardar_csv(categorias: List[Dict[str, str]], idioma: str) -> None:\n",
    "    \"\"\"\n",
    "    Guarda las categorías en un archivo CSV.\n",
    "\n",
    "    Args:\n",
    "        categorias (List[Dict[str, str]]): Categorías extraídas.\n",
    "        idioma (str): Idioma seleccionado (ingles o espanol).\n",
    "    \"\"\"\n",
    "    # Crear un DataFrame de Pandas con los nombres y alias\n",
    "    categorias_df = pd.DataFrame({\n",
    "        'Nombre': [cat['nombre'] for cat in categorias],\n",
    "        'Alias': [cat['alias'] for cat in categorias],\n",
    "        'Alias2': [cat['alias2'] for cat in categorias]\n",
    "    })\n",
    "\n",
    "    # Guardar el DataFrame en un archivo CSV\n",
    "    categorias_df.to_csv(f'categorias_amazon_{idioma}.csv', index=False)\n",
    "    print(f\"Categorías guardadas en 'categorias_amazon_{idioma}.csv'.\")\n",
    "\n",
    "\n",
    "def main() -> None:\n",
    "    \"\"\"\n",
    "    Función principal que ejecuta el script.\n",
    "    \"\"\"\n",
    "    # Seleccionar el idioma ('ingles' o 'espanol')\n",
    "    idioma = 'ES'  # Cambiar a 'EN' o 'ES' según se requiera\n",
    "\n",
    "    # Configurar el navegador\n",
    "    navegador = configurar_navegador()\n",
    "\n",
    "    # URL de Amazon según el idioma\n",
    "    url = 'https://www.amazon.com/?language=en_US' if idioma == 'EN' else 'https://www.amazon.com/-/es/'\n",
    "\n",
    "    # Extraer categorías de la página seleccionada\n",
    "    categorias = extraer_categorias(navegador, url)\n",
    "\n",
    "    # Cerrar el navegador\n",
    "    navegador.quit()\n",
    "\n",
    "    # Guardar las categorías en un archivo CSV\n",
    "    guardar_csv(categorias, idioma)\n",
    "\n",
    "\n",
    "if __name__ == '__main__':\n",
    "    main()"
   ]
  },
  {
   "cell_type": "code",
   "execution_count": null,
   "id": "5af5162d-0cbf-4ead-935a-7d4646866b8c",
   "metadata": {},
   "outputs": [],
   "source": []
  },
  {
   "cell_type": "code",
   "execution_count": null,
   "id": "23e55e9f-ea36-4b29-a9a2-757d8e41200e",
   "metadata": {},
   "outputs": [],
   "source": []
  },
  {
   "cell_type": "code",
   "execution_count": null,
   "id": "b71158e9-af18-4f99-9474-2f54fecde4f7",
   "metadata": {},
   "outputs": [],
   "source": []
  },
  {
   "cell_type": "code",
   "execution_count": null,
   "id": "27ca5777-8d3e-4816-a94d-45f5793ded72",
   "metadata": {},
   "outputs": [],
   "source": []
  }
 ],
 "metadata": {
  "kernelspec": {
   "display_name": "Python 3 (ipykernel)",
   "language": "python",
   "name": "python3"
  },
  "language_info": {
   "codemirror_mode": {
    "name": "ipython",
    "version": 3
   },
   "file_extension": ".py",
   "mimetype": "text/x-python",
   "name": "python",
   "nbconvert_exporter": "python",
   "pygments_lexer": "ipython3",
   "version": "3.12.4"
  }
 },
 "nbformat": 4,
 "nbformat_minor": 5
}
